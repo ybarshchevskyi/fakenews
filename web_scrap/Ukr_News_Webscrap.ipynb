{
 "cells": [
  {
   "cell_type": "markdown",
   "metadata": {},
   "source": [
    "# Loading dependencies, defining functions "
   ]
  },
  {
   "cell_type": "code",
   "execution_count": null,
   "metadata": {},
   "outputs": [],
   "source": [
    "from bs4 import BeautifulSoup\n",
    "import requests\n",
    "import pickle\n",
    "import os.path\n",
    "from newspaper import Article\n",
    "import re\n",
    "\n",
    "\n",
    "def text_serializer(filename,text):\n",
    "    with open(filename, 'wb') as file:\n",
    "        pickle.dump(text, file)\n",
    "        \n",
    "def text_deserializer(filename):\n",
    "    with open(filename, 'rb') as file:\n",
    "        data = pickle.load(file)\n",
    "    return data\n",
    "\n",
    "def download_articles(url):\n",
    "    '''Iterate over links with news/fakenews. If there is no problem with link,\n",
    "    download article. Returns list of article as text strings'''\n",
    "    text_parsed = {}\n",
    "    total_length = len(url)\n",
    "    for x in range(len(url)):\n",
    "        try:\n",
    "            req = requests.get(url[x])\n",
    "        except (requests.exceptions.ConnectionError,requests.exceptions.SSLError) as error:\n",
    "            print(error)\n",
    "        try:\n",
    "            if req.status_code == 200:\n",
    "                article = Article(url[x], language='ru')\n",
    "                article.download(),article.parse()\n",
    "                text_parsed[url[x]] = article.text\n",
    "            else:\n",
    "                continue\n",
    "        except (BaseException) as error:\n",
    "            print(error)\n",
    "        print('Links processed: '+ str(round(((x/total_length)*100),2))+'%')\n",
    "    return text_parsed\n"
   ]
  },
  {
   "cell_type": "markdown",
   "metadata": {},
   "source": [
    "# Downloading news"
   ]
  },
  {
   "cell_type": "code",
   "execution_count": null,
   "metadata": {},
   "outputs": [],
   "source": [
    "with open('unian_ukrpravda_war.txt', 'r') as f:\n",
    "    readed_lines = f.readlines()"
   ]
  },
  {
   "cell_type": "code",
   "execution_count": null,
   "metadata": {},
   "outputs": [],
   "source": [
    "news_links_war = [re.findall('^h\\S*', link)[0] for link in readed_lines]\n",
    "\n",
    "print(len(news_links_war))"
   ]
  },
  {
   "cell_type": "code",
   "execution_count": null,
   "metadata": {},
   "outputs": [],
   "source": [
    "ukr_news_text = download_articles(news_links)"
   ]
  },
  {
   "cell_type": "code",
   "execution_count": null,
   "metadata": {},
   "outputs": [],
   "source": [
    "print(len(ukr_news_text))"
   ]
  },
  {
   "cell_type": "code",
   "execution_count": null,
   "metadata": {},
   "outputs": [],
   "source": [
    "text_serializer(os.path.join('raw_data', 'unian_ukrpravda_text_#1554_aug_8_2017'), ukr_news_text)"
   ]
  },
  {
   "cell_type": "code",
   "execution_count": null,
   "metadata": {},
   "outputs": [],
   "source": [
    "with open('unian_ukrpravda_minsk.txt', 'r') as f:\n",
    "    readed_lines1 = f.readlines()\n",
    "    \n",
    "news_links_minsk = [re.findall('^h\\S*', link)[0] for link in readed_lines1]"
   ]
  },
  {
   "cell_type": "code",
   "execution_count": null,
   "metadata": {},
   "outputs": [],
   "source": [
    "temp = None\n",
    "for link in news_links_minsk:\n",
    "    for link2 in news_links_war:\n",
    "        if link == link2:\n",
    "            temp = link\n",
    "            \n",
    "for x in range(len(news_links_minsk)):\n",
    "    if news_links_minsk[x] == temp:\n",
    "        del news_links_minsk[x]"
   ]
  },
  {
   "cell_type": "code",
   "execution_count": null,
   "metadata": {},
   "outputs": [],
   "source": [
    "ukr_news_minsk = download_articles(news_links_minsk)\n",
    "print(len(ukr_news_minsk))"
   ]
  },
  {
   "cell_type": "code",
   "execution_count": null,
   "metadata": {},
   "outputs": [],
   "source": [
    "text_serializer(os.path.join('raw_data', 'unian_ukrpravda_minsk_#267_aug_11_2017'), ukr_news_minsk)"
   ]
  },
  {
   "cell_type": "code",
   "execution_count": null,
   "metadata": {},
   "outputs": [],
   "source": [
    "with open('test_set.txt', 'r') as f:\n",
    "    readed_lines2 = f.readlines()\n",
    "    \n",
    "test = [re.findall('^h\\S*', link)[0] for link in readed_lines2]\n",
    "\n",
    "test_set = download_articles(test)\n",
    "\n",
    "text_serializer(os.path.join('raw_data', 'test_set'), test_set)"
   ]
  }
 ],
 "metadata": {
  "kernelspec": {
   "display_name": "Python 3",
   "language": "python",
   "name": "python3"
  },
  "language_info": {
   "codemirror_mode": {
    "name": "ipython",
    "version": 3
   },
   "file_extension": ".py",
   "mimetype": "text/x-python",
   "name": "python",
   "nbconvert_exporter": "python",
   "pygments_lexer": "ipython3",
   "version": "3.6.1"
  }
 },
 "nbformat": 4,
 "nbformat_minor": 2
}
